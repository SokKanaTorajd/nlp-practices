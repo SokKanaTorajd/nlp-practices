{
  "nbformat": 4,
  "nbformat_minor": 0,
  "metadata": {
    "colab": {
      "name": "tm-Tensor-GPU.ipynb",
      "provenance": [],
      "collapsed_sections": [],
      "include_colab_link": true
    },
    "kernelspec": {
      "name": "python3",
      "display_name": "Python 3"
    },
    "language_info": {
      "name": "python"
    },
    "accelerator": "GPU"
  },
  "cells": [
    {
      "cell_type": "markdown",
      "metadata": {
        "id": "view-in-github",
        "colab_type": "text"
      },
      "source": [
        "<a href=\"https://colab.research.google.com/github/SokKanaTorajd/nlp-practices/blob/main/tm_Tensor_GPU.ipynb\" target=\"_parent\"><img src=\"https://colab.research.google.com/assets/colab-badge.svg\" alt=\"Open In Colab\"/></a>"
      ]
    },
    {
      "cell_type": "code",
      "metadata": {
        "id": "VTl7-PolZ7Iy"
      },
      "source": [
        "# !pip uninstall tensorflow\n",
        "# !pip install tensorflow-gpu==2.0.0-alpha0"
      ],
      "execution_count": null,
      "outputs": []
    },
    {
      "cell_type": "code",
      "metadata": {
        "id": "sPvkwRq3bEK9"
      },
      "source": [
        "import tensorflow as tf"
      ],
      "execution_count": null,
      "outputs": []
    },
    {
      "cell_type": "code",
      "metadata": {
        "id": "npvC4BPIaD3_"
      },
      "source": [
        "import os\n",
        "import numpy as np # linear algebra\n",
        "import pandas as pd # data processing, CSV file I/O (e.g. pd.read_csv)\n",
        "import math\n",
        "import operator\n",
        "from collections import Counter\n",
        "from wordcloud import WordCloud, STOPWORDS\n",
        "\n",
        "from tqdm import tqdm\n",
        "tqdm.pandas()\n",
        "\n",
        "from sklearn.model_selection import train_test_split\n",
        "from sklearn import metrics\n",
        "from sklearn.feature_extraction.text import CountVectorizer\n",
        "\n",
        "import tensorflow as tf\n",
        "from tensorflow.keras.preprocessing.sequence import pad_sequences\n",
        "from tensorflow.keras.preprocessing.text import Tokenizer\n",
        "from tensorflow.keras.layers import Dense, Input, LSTM, Embedding, Dropout, Activation\n",
        "from tensorflow.keras.layers import Bidirectional, GlobalMaxPool1D\n",
        "from tensorflow.keras.models import Model, Sequential\n",
        "from tensorflow.compat.v1.keras.layers import CuDNNLSTM\n",
        "from tensorflow.keras import layers\n",
        "\n",
        "%matplotlib inline\n",
        "import matplotlib.pyplot as plt\n",
        "\n",
        "pd.set_option('display.max_rows', 500)\n",
        "pd.set_option('display.max_columns', 500)\n",
        "pd.set_option('display.max_colwidth', 1000)"
      ],
      "execution_count": null,
      "outputs": []
    },
    {
      "cell_type": "code",
      "metadata": {
        "colab": {
          "base_uri": "https://localhost:8080/"
        },
        "id": "nuvaN49babrL",
        "outputId": "78892eb9-c277-4eb0-bc1d-2d3fba3dc142"
      },
      "source": [
        "print(tf.__version__)"
      ],
      "execution_count": null,
      "outputs": [
        {
          "output_type": "stream",
          "name": "stdout",
          "text": [
            "2.6.0\n"
          ]
        }
      ]
    },
    {
      "cell_type": "code",
      "metadata": {
        "colab": {
          "base_uri": "https://localhost:8080/"
        },
        "id": "HPpNrNAzcGGp",
        "outputId": "78cf2a96-6cf7-443b-d648-4f766eee08d4"
      },
      "source": [
        "x = tf.random.uniform([3, 3])\n",
        "\n",
        "print(\"Is there a GPU available: \"),\n",
        "print(tf.test.is_gpu_available())\n",
        "\n",
        "print(\"Is the Tensor on GPU #0:  \"),\n",
        "print(x.device.endswith('GPU:0'))\n",
        "\n",
        "print(\"Device name: {}\".format((x.device)))"
      ],
      "execution_count": null,
      "outputs": [
        {
          "output_type": "stream",
          "name": "stdout",
          "text": [
            "Is there a GPU available: \n",
            "WARNING:tensorflow:From <ipython-input-3-2f39aec4b35c>:4: is_gpu_available (from tensorflow.python.framework.test_util) is deprecated and will be removed in a future version.\n",
            "Instructions for updating:\n",
            "Use `tf.config.list_physical_devices('GPU')` instead.\n",
            "True\n",
            "Is the Tensor on GPU #0:  \n",
            "True\n",
            "Device name: /job:localhost/replica:0/task:0/device:GPU:0\n"
          ]
        }
      ]
    },
    {
      "cell_type": "code",
      "metadata": {
        "colab": {
          "base_uri": "https://localhost:8080/"
        },
        "id": "3ERU3G3Vcu0K",
        "outputId": "1ab512f0-159c-4f4e-dcdc-b5fcf8ea5ed3"
      },
      "source": [
        "from google.colab import drive\n",
        "drive.mount(\"/content/gdrive/\") "
      ],
      "execution_count": null,
      "outputs": [
        {
          "output_type": "stream",
          "name": "stdout",
          "text": [
            "Drive already mounted at /content/gdrive/; to attempt to forcibly remount, call drive.mount(\"/content/gdrive/\", force_remount=True).\n"
          ]
        }
      ]
    },
    {
      "cell_type": "code",
      "metadata": {
        "colab": {
          "base_uri": "https://localhost:8080/"
        },
        "id": "c-v9dPSCuJ_R",
        "outputId": "915c86b9-bcd7-4e0b-e652-3b39464dbe7f"
      },
      "source": [
        "from google.colab import drive\n",
        "drive.mount('/content/drive')"
      ],
      "execution_count": null,
      "outputs": [
        {
          "output_type": "stream",
          "name": "stdout",
          "text": [
            "Mounted at /content/drive\n"
          ]
        }
      ]
    },
    {
      "cell_type": "code",
      "metadata": {
        "colab": {
          "base_uri": "https://localhost:8080/"
        },
        "id": "EWvplAO4c4sf",
        "outputId": "7fdeb5a7-7f77-4865-dc4c-52ab0c1b7e30"
      },
      "source": [
        "cd gdrive/MyDrive/Colab\\ Notebooks/data"
      ],
      "execution_count": null,
      "outputs": [
        {
          "output_type": "stream",
          "name": "stdout",
          "text": [
            "/content/gdrive/MyDrive/Colab Notebooks/data\n"
          ]
        }
      ]
    },
    {
      "cell_type": "code",
      "metadata": {
        "id": "s4CmrGokcJTr",
        "colab": {
          "base_uri": "https://localhost:8080/",
          "height": 426
        },
        "outputId": "3ded94e2-3f15-4cec-e779-d0ea5d20cadf"
      },
      "source": [
        "import pandas as pd\n",
        "file_dir = '/content/drive/MyDrive/Colab Notebooks/labelled-sentiment-copy.csv'\n",
        "df  = pd.read_csv(file_dir)\n",
        "# df_test  = pd.read_csv(\"Unlabeled.csv\")"
      ],
      "execution_count": null,
      "outputs": [
        {
          "output_type": "error",
          "ename": "FileNotFoundError",
          "evalue": "ignored",
          "traceback": [
            "\u001b[0;31m---------------------------------------------------------------------------\u001b[0m",
            "\u001b[0;31mFileNotFoundError\u001b[0m                         Traceback (most recent call last)",
            "\u001b[0;32m<ipython-input-5-b144009bda76>\u001b[0m in \u001b[0;36m<module>\u001b[0;34m()\u001b[0m\n\u001b[1;32m      1\u001b[0m \u001b[0;32mimport\u001b[0m \u001b[0mpandas\u001b[0m \u001b[0;32mas\u001b[0m \u001b[0mpd\u001b[0m\u001b[0;34m\u001b[0m\u001b[0;34m\u001b[0m\u001b[0m\n\u001b[1;32m      2\u001b[0m \u001b[0mfile_dir\u001b[0m \u001b[0;34m=\u001b[0m \u001b[0;34m'/content/drive/MyDrive/Colab Notebooks/labelled-sentiment-copy.csv'\u001b[0m\u001b[0;34m\u001b[0m\u001b[0;34m\u001b[0m\u001b[0m\n\u001b[0;32m----> 3\u001b[0;31m \u001b[0mdf\u001b[0m  \u001b[0;34m=\u001b[0m \u001b[0mpd\u001b[0m\u001b[0;34m.\u001b[0m\u001b[0mread_csv\u001b[0m\u001b[0;34m(\u001b[0m\u001b[0mfile_dir\u001b[0m\u001b[0;34m)\u001b[0m\u001b[0;34m\u001b[0m\u001b[0;34m\u001b[0m\u001b[0m\n\u001b[0m\u001b[1;32m      4\u001b[0m \u001b[0;31m# df_test  = pd.read_csv(\"Unlabeled.csv\")\u001b[0m\u001b[0;34m\u001b[0m\u001b[0;34m\u001b[0m\u001b[0;34m\u001b[0m\u001b[0m\n",
            "\u001b[0;32m/usr/local/lib/python3.7/dist-packages/pandas/io/parsers.py\u001b[0m in \u001b[0;36mread_csv\u001b[0;34m(filepath_or_buffer, sep, delimiter, header, names, index_col, usecols, squeeze, prefix, mangle_dupe_cols, dtype, engine, converters, true_values, false_values, skipinitialspace, skiprows, skipfooter, nrows, na_values, keep_default_na, na_filter, verbose, skip_blank_lines, parse_dates, infer_datetime_format, keep_date_col, date_parser, dayfirst, cache_dates, iterator, chunksize, compression, thousands, decimal, lineterminator, quotechar, quoting, doublequote, escapechar, comment, encoding, dialect, error_bad_lines, warn_bad_lines, delim_whitespace, low_memory, memory_map, float_precision)\u001b[0m\n\u001b[1;32m    686\u001b[0m     )\n\u001b[1;32m    687\u001b[0m \u001b[0;34m\u001b[0m\u001b[0m\n\u001b[0;32m--> 688\u001b[0;31m     \u001b[0;32mreturn\u001b[0m \u001b[0m_read\u001b[0m\u001b[0;34m(\u001b[0m\u001b[0mfilepath_or_buffer\u001b[0m\u001b[0;34m,\u001b[0m \u001b[0mkwds\u001b[0m\u001b[0;34m)\u001b[0m\u001b[0;34m\u001b[0m\u001b[0;34m\u001b[0m\u001b[0m\n\u001b[0m\u001b[1;32m    689\u001b[0m \u001b[0;34m\u001b[0m\u001b[0m\n\u001b[1;32m    690\u001b[0m \u001b[0;34m\u001b[0m\u001b[0m\n",
            "\u001b[0;32m/usr/local/lib/python3.7/dist-packages/pandas/io/parsers.py\u001b[0m in \u001b[0;36m_read\u001b[0;34m(filepath_or_buffer, kwds)\u001b[0m\n\u001b[1;32m    452\u001b[0m \u001b[0;34m\u001b[0m\u001b[0m\n\u001b[1;32m    453\u001b[0m     \u001b[0;31m# Create the parser.\u001b[0m\u001b[0;34m\u001b[0m\u001b[0;34m\u001b[0m\u001b[0;34m\u001b[0m\u001b[0m\n\u001b[0;32m--> 454\u001b[0;31m     \u001b[0mparser\u001b[0m \u001b[0;34m=\u001b[0m \u001b[0mTextFileReader\u001b[0m\u001b[0;34m(\u001b[0m\u001b[0mfp_or_buf\u001b[0m\u001b[0;34m,\u001b[0m \u001b[0;34m**\u001b[0m\u001b[0mkwds\u001b[0m\u001b[0;34m)\u001b[0m\u001b[0;34m\u001b[0m\u001b[0;34m\u001b[0m\u001b[0m\n\u001b[0m\u001b[1;32m    455\u001b[0m \u001b[0;34m\u001b[0m\u001b[0m\n\u001b[1;32m    456\u001b[0m     \u001b[0;32mif\u001b[0m \u001b[0mchunksize\u001b[0m \u001b[0;32mor\u001b[0m \u001b[0miterator\u001b[0m\u001b[0;34m:\u001b[0m\u001b[0;34m\u001b[0m\u001b[0;34m\u001b[0m\u001b[0m\n",
            "\u001b[0;32m/usr/local/lib/python3.7/dist-packages/pandas/io/parsers.py\u001b[0m in \u001b[0;36m__init__\u001b[0;34m(self, f, engine, **kwds)\u001b[0m\n\u001b[1;32m    946\u001b[0m             \u001b[0mself\u001b[0m\u001b[0;34m.\u001b[0m\u001b[0moptions\u001b[0m\u001b[0;34m[\u001b[0m\u001b[0;34m\"has_index_names\"\u001b[0m\u001b[0;34m]\u001b[0m \u001b[0;34m=\u001b[0m \u001b[0mkwds\u001b[0m\u001b[0;34m[\u001b[0m\u001b[0;34m\"has_index_names\"\u001b[0m\u001b[0;34m]\u001b[0m\u001b[0;34m\u001b[0m\u001b[0;34m\u001b[0m\u001b[0m\n\u001b[1;32m    947\u001b[0m \u001b[0;34m\u001b[0m\u001b[0m\n\u001b[0;32m--> 948\u001b[0;31m         \u001b[0mself\u001b[0m\u001b[0;34m.\u001b[0m\u001b[0m_make_engine\u001b[0m\u001b[0;34m(\u001b[0m\u001b[0mself\u001b[0m\u001b[0;34m.\u001b[0m\u001b[0mengine\u001b[0m\u001b[0;34m)\u001b[0m\u001b[0;34m\u001b[0m\u001b[0;34m\u001b[0m\u001b[0m\n\u001b[0m\u001b[1;32m    949\u001b[0m \u001b[0;34m\u001b[0m\u001b[0m\n\u001b[1;32m    950\u001b[0m     \u001b[0;32mdef\u001b[0m \u001b[0mclose\u001b[0m\u001b[0;34m(\u001b[0m\u001b[0mself\u001b[0m\u001b[0;34m)\u001b[0m\u001b[0;34m:\u001b[0m\u001b[0;34m\u001b[0m\u001b[0;34m\u001b[0m\u001b[0m\n",
            "\u001b[0;32m/usr/local/lib/python3.7/dist-packages/pandas/io/parsers.py\u001b[0m in \u001b[0;36m_make_engine\u001b[0;34m(self, engine)\u001b[0m\n\u001b[1;32m   1178\u001b[0m     \u001b[0;32mdef\u001b[0m \u001b[0m_make_engine\u001b[0m\u001b[0;34m(\u001b[0m\u001b[0mself\u001b[0m\u001b[0;34m,\u001b[0m \u001b[0mengine\u001b[0m\u001b[0;34m=\u001b[0m\u001b[0;34m\"c\"\u001b[0m\u001b[0;34m)\u001b[0m\u001b[0;34m:\u001b[0m\u001b[0;34m\u001b[0m\u001b[0;34m\u001b[0m\u001b[0m\n\u001b[1;32m   1179\u001b[0m         \u001b[0;32mif\u001b[0m \u001b[0mengine\u001b[0m \u001b[0;34m==\u001b[0m \u001b[0;34m\"c\"\u001b[0m\u001b[0;34m:\u001b[0m\u001b[0;34m\u001b[0m\u001b[0;34m\u001b[0m\u001b[0m\n\u001b[0;32m-> 1180\u001b[0;31m             \u001b[0mself\u001b[0m\u001b[0;34m.\u001b[0m\u001b[0m_engine\u001b[0m \u001b[0;34m=\u001b[0m \u001b[0mCParserWrapper\u001b[0m\u001b[0;34m(\u001b[0m\u001b[0mself\u001b[0m\u001b[0;34m.\u001b[0m\u001b[0mf\u001b[0m\u001b[0;34m,\u001b[0m \u001b[0;34m**\u001b[0m\u001b[0mself\u001b[0m\u001b[0;34m.\u001b[0m\u001b[0moptions\u001b[0m\u001b[0;34m)\u001b[0m\u001b[0;34m\u001b[0m\u001b[0;34m\u001b[0m\u001b[0m\n\u001b[0m\u001b[1;32m   1181\u001b[0m         \u001b[0;32melse\u001b[0m\u001b[0;34m:\u001b[0m\u001b[0;34m\u001b[0m\u001b[0;34m\u001b[0m\u001b[0m\n\u001b[1;32m   1182\u001b[0m             \u001b[0;32mif\u001b[0m \u001b[0mengine\u001b[0m \u001b[0;34m==\u001b[0m \u001b[0;34m\"python\"\u001b[0m\u001b[0;34m:\u001b[0m\u001b[0;34m\u001b[0m\u001b[0;34m\u001b[0m\u001b[0m\n",
            "\u001b[0;32m/usr/local/lib/python3.7/dist-packages/pandas/io/parsers.py\u001b[0m in \u001b[0;36m__init__\u001b[0;34m(self, src, **kwds)\u001b[0m\n\u001b[1;32m   2008\u001b[0m         \u001b[0mkwds\u001b[0m\u001b[0;34m[\u001b[0m\u001b[0;34m\"usecols\"\u001b[0m\u001b[0;34m]\u001b[0m \u001b[0;34m=\u001b[0m \u001b[0mself\u001b[0m\u001b[0;34m.\u001b[0m\u001b[0musecols\u001b[0m\u001b[0;34m\u001b[0m\u001b[0;34m\u001b[0m\u001b[0m\n\u001b[1;32m   2009\u001b[0m \u001b[0;34m\u001b[0m\u001b[0m\n\u001b[0;32m-> 2010\u001b[0;31m         \u001b[0mself\u001b[0m\u001b[0;34m.\u001b[0m\u001b[0m_reader\u001b[0m \u001b[0;34m=\u001b[0m \u001b[0mparsers\u001b[0m\u001b[0;34m.\u001b[0m\u001b[0mTextReader\u001b[0m\u001b[0;34m(\u001b[0m\u001b[0msrc\u001b[0m\u001b[0;34m,\u001b[0m \u001b[0;34m**\u001b[0m\u001b[0mkwds\u001b[0m\u001b[0;34m)\u001b[0m\u001b[0;34m\u001b[0m\u001b[0;34m\u001b[0m\u001b[0m\n\u001b[0m\u001b[1;32m   2011\u001b[0m         \u001b[0mself\u001b[0m\u001b[0;34m.\u001b[0m\u001b[0munnamed_cols\u001b[0m \u001b[0;34m=\u001b[0m \u001b[0mself\u001b[0m\u001b[0;34m.\u001b[0m\u001b[0m_reader\u001b[0m\u001b[0;34m.\u001b[0m\u001b[0munnamed_cols\u001b[0m\u001b[0;34m\u001b[0m\u001b[0;34m\u001b[0m\u001b[0m\n\u001b[1;32m   2012\u001b[0m \u001b[0;34m\u001b[0m\u001b[0m\n",
            "\u001b[0;32mpandas/_libs/parsers.pyx\u001b[0m in \u001b[0;36mpandas._libs.parsers.TextReader.__cinit__\u001b[0;34m()\u001b[0m\n",
            "\u001b[0;32mpandas/_libs/parsers.pyx\u001b[0m in \u001b[0;36mpandas._libs.parsers.TextReader._setup_parser_source\u001b[0;34m()\u001b[0m\n",
            "\u001b[0;31mFileNotFoundError\u001b[0m: [Errno 2] No such file or directory: '/content/drive/MyDrive/Colab Notebooks/labelled-sentiment-copy.csv'"
          ]
        }
      ]
    },
    {
      "cell_type": "code",
      "metadata": {
        "id": "8iyOFK6kc9_2"
      },
      "source": [
        "X_train, X_test  = train_test_split(df, test_size=0.1, random_state=42)"
      ],
      "execution_count": null,
      "outputs": []
    },
    {
      "cell_type": "code",
      "metadata": {
        "id": "pMK_wTBvdDHY"
      },
      "source": [
        "y_train, y_test = X_train['sentimen'].values, X_test['sentimen'].values"
      ],
      "execution_count": null,
      "outputs": []
    },
    {
      "cell_type": "code",
      "metadata": {
        "id": "Rlnrm0fFdqFK"
      },
      "source": [
        "embed_size = 300 # how big is each word vector\n",
        "max_features = 50000 # how many unique words to use (i.e num rows in embedding vector)\n",
        "maxlen = 100 # max number of words in a question to use"
      ],
      "execution_count": null,
      "outputs": []
    },
    {
      "cell_type": "code",
      "metadata": {
        "id": "hw2NHHmddG9x"
      },
      "source": [
        "X_train = X_train['Tweet'].fillna('_NA_').values\n",
        "X_test = X_test['Tweet'].fillna('_NA_').values\n",
        "# X_submission = df_test['Tweet'].fillna('_NA_').values"
      ],
      "execution_count": null,
      "outputs": []
    },
    {
      "cell_type": "code",
      "metadata": {
        "colab": {
          "base_uri": "https://localhost:8080/"
        },
        "id": "UpglC7Vtdkob",
        "outputId": "20c18bf0-078f-4cc9-cfb6-a31c2951cd11"
      },
      "source": [
        "X_train.shape"
      ],
      "execution_count": null,
      "outputs": [
        {
          "output_type": "execute_result",
          "data": {
            "text/plain": [
              "(9725,)"
            ]
          },
          "metadata": {},
          "execution_count": 11
        }
      ]
    },
    {
      "cell_type": "code",
      "metadata": {
        "id": "RPdoWWqpeYag"
      },
      "source": [
        "tokenizer = Tokenizer(num_words=max_features)\n",
        "tokenizer.fit_on_texts(list(X_train))\n",
        "X_train = tokenizer.texts_to_sequences(X_train)\n",
        "X_test = tokenizer.texts_to_sequences(X_test)\n",
        "# X_submission = tokenizer.texts_to_sequences(X_submission)"
      ],
      "execution_count": null,
      "outputs": []
    },
    {
      "cell_type": "code",
      "metadata": {
        "id": "D-Y_JD6tecD3"
      },
      "source": [
        "X_train = pad_sequences(X_train, maxlen=maxlen)\n",
        "X_test = pad_sequences(X_test, maxlen=maxlen)\n",
        "# X_submission = pad_sequences(X_submission, maxlen=maxlen)"
      ],
      "execution_count": null,
      "outputs": []
    },
    {
      "cell_type": "code",
      "metadata": {
        "id": "fg9TshnBefJs"
      },
      "source": [
        "# def data_prep(df):\n",
        "#     print(\"Splitting dataframe with shape {} into training and test datasets\".format(df.shape))\n",
        "#     X_train, X_test  = train_test_split(df, test_size=0.1, random_state=2019)\n",
        "#     y_train, y_test = X_train['target'].values, X_test['target'].values\n",
        "    \n",
        "#     print(\"Filling missing values\")\n",
        "#     X_train = X_train['Tweet'].fillna('_NA_').values\n",
        "#     X_test = X_test['Tweet'].fillna('_NA_').values\n",
        "#     X_submission = df_test['Tweet'].fillna('_NA_').values\n",
        "    \n",
        "#     print(\"Tokenizing {} questions into words\".format(df.shape[0]))\n",
        "#     tokenizer = Tokenizer(num_words=max_features)\n",
        "#     tokenizer.fit_on_texts(list(X_train))\n",
        "#     X_train = tokenizer.texts_to_sequences(X_train)\n",
        "#     X_test = tokenizer.texts_to_sequences(X_test)\n",
        "#     X_submission = tokenizer.texts_to_sequences(X_submission)\n",
        "    \n",
        "#     print(\"Padding sequences for uniform dimensions\")\n",
        "#     X_train = pad_sequences(X_train, maxlen=maxlen)\n",
        "#     X_test = pad_sequences(X_test, maxlen=maxlen)\n",
        "#     X_submission = pad_sequences(X_submission, maxlen=maxlen)\n",
        "    \n",
        "#     print(\"Completed data preparation, returning training, test and submission datasets, split as dependent(X) and independent(Y) variables\")\n",
        "    \n",
        "#     return X_train, X_test, y_train, y_test, X_submission"
      ],
      "execution_count": null,
      "outputs": []
    },
    {
      "cell_type": "code",
      "metadata": {
        "id": "1PU1WjKHu-5y"
      },
      "source": [
        "# X_train, X_test, y_train, y_test, X_submission = data_prep(df)"
      ],
      "execution_count": null,
      "outputs": []
    },
    {
      "cell_type": "code",
      "metadata": {
        "colab": {
          "base_uri": "https://localhost:8080/"
        },
        "id": "NzpLZgtCejXL",
        "outputId": "25083be6-8683-48a4-f408-a0912091be4e"
      },
      "source": [
        "model1 = Sequential()\n",
        "model1.add(Embedding(max_features, embed_size, input_length=maxlen))\n",
        "model1.add(Bidirectional(CuDNNLSTM(128, return_sequences=True)))\n",
        "model1.add(Dropout(0.2))\n",
        "# model1.add(GlobalMaxPool1D())\n",
        "model1.add(Bidirectional(CuDNNLSTM(64, return_sequences=True)))\n",
        "model1.add(Dropout(0.2))\n",
        "model1.add(CuDNNLSTM(32))\n",
        "model1.add(Dense(64, activation='relu'))\n",
        "model1.add(Dropout(0.2))\n",
        "model1.add(Dense(32, activation='relu'))\n",
        "model1.add(Dropout(0.1))\n",
        "model1.add(Dense(1, activation='sigmoid'))\n",
        "model1.compile(loss='binary_crossentropy', optimizer='adam', \n",
        "               metrics=['accuracy'])\n",
        "\n",
        "model1.summary()"
      ],
      "execution_count": null,
      "outputs": [
        {
          "output_type": "stream",
          "name": "stdout",
          "text": [
            "Model: \"sequential_6\"\n",
            "_________________________________________________________________\n",
            "Layer (type)                 Output Shape              Param #   \n",
            "=================================================================\n",
            "embedding_6 (Embedding)      (None, 100, 300)          15000000  \n",
            "_________________________________________________________________\n",
            "bidirectional_13 (Bidirectio (None, 100, 256)          440320    \n",
            "_________________________________________________________________\n",
            "dropout_15 (Dropout)         (None, 100, 256)          0         \n",
            "_________________________________________________________________\n",
            "bidirectional_14 (Bidirectio (None, 100, 128)          164864    \n",
            "_________________________________________________________________\n",
            "dropout_16 (Dropout)         (None, 100, 128)          0         \n",
            "_________________________________________________________________\n",
            "cu_dnnlstm_16 (CuDNNLSTM)    (None, 32)                20736     \n",
            "_________________________________________________________________\n",
            "dense_12 (Dense)             (None, 64)                2112      \n",
            "_________________________________________________________________\n",
            "dropout_17 (Dropout)         (None, 64)                0         \n",
            "_________________________________________________________________\n",
            "dense_13 (Dense)             (None, 32)                2080      \n",
            "_________________________________________________________________\n",
            "dropout_18 (Dropout)         (None, 32)                0         \n",
            "_________________________________________________________________\n",
            "dense_14 (Dense)             (None, 1)                 33        \n",
            "=================================================================\n",
            "Total params: 15,630,145\n",
            "Trainable params: 15,630,145\n",
            "Non-trainable params: 0\n",
            "_________________________________________________________________\n"
          ]
        }
      ]
    },
    {
      "cell_type": "code",
      "metadata": {
        "colab": {
          "base_uri": "https://localhost:8080/"
        },
        "id": "T8xCCOu3emi6",
        "outputId": "66d0d2fd-d3a3-4951-eaba-9d3bc4ad703f"
      },
      "source": [
        "%time model1.fit(X_train, y_train, batch_size=512, epochs=35, validation_data=(X_test, y_test), verbose = 1)"
      ],
      "execution_count": null,
      "outputs": [
        {
          "output_type": "stream",
          "name": "stdout",
          "text": [
            "Epoch 1/35\n",
            "19/19 [==============================] - 9s 302ms/step - loss: 0.2099 - accuracy: 0.4905 - val_loss: -0.1764 - val_accuracy: 0.5032\n",
            "Epoch 2/35\n",
            "19/19 [==============================] - 5s 256ms/step - loss: -0.1593 - accuracy: 0.4918 - val_loss: -0.4110 - val_accuracy: 0.5032\n",
            "Epoch 3/35\n",
            "19/19 [==============================] - 5s 255ms/step - loss: -0.3049 - accuracy: 0.4918 - val_loss: -0.6718 - val_accuracy: 0.5032\n",
            "Epoch 4/35\n",
            "19/19 [==============================] - 5s 255ms/step - loss: -0.4635 - accuracy: 0.4918 - val_loss: -0.9919 - val_accuracy: 0.5032\n",
            "Epoch 5/35\n",
            "19/19 [==============================] - 5s 255ms/step - loss: -0.6994 - accuracy: 0.4918 - val_loss: -1.5664 - val_accuracy: 0.5032\n",
            "Epoch 6/35\n",
            "19/19 [==============================] - 5s 253ms/step - loss: -1.1093 - accuracy: 0.4918 - val_loss: -2.1401 - val_accuracy: 0.5032\n",
            "Epoch 7/35\n",
            "19/19 [==============================] - 5s 252ms/step - loss: -1.4291 - accuracy: 0.4918 - val_loss: -3.1776 - val_accuracy: 0.5032\n",
            "Epoch 8/35\n",
            "19/19 [==============================] - 5s 250ms/step - loss: -2.0602 - accuracy: 0.4918 - val_loss: -4.3387 - val_accuracy: 0.5032\n",
            "Epoch 9/35\n",
            "19/19 [==============================] - 5s 251ms/step - loss: -2.8613 - accuracy: 0.4918 - val_loss: -5.8986 - val_accuracy: 0.5032\n",
            "Epoch 10/35\n",
            "19/19 [==============================] - 5s 251ms/step - loss: -3.7061 - accuracy: 0.4918 - val_loss: -7.7627 - val_accuracy: 0.5032\n",
            "Epoch 11/35\n",
            "19/19 [==============================] - 5s 250ms/step - loss: -8.9039 - accuracy: 0.4918 - val_loss: -16.6996 - val_accuracy: 0.5032\n",
            "Epoch 12/35\n",
            "19/19 [==============================] - 5s 253ms/step - loss: -57.2551 - accuracy: 0.4917 - val_loss: -36.2431 - val_accuracy: 0.5032\n",
            "Epoch 13/35\n",
            "19/19 [==============================] - 5s 253ms/step - loss: -101.5821 - accuracy: 0.4920 - val_loss: -57.8883 - val_accuracy: 0.5032\n",
            "Epoch 14/35\n",
            "19/19 [==============================] - 5s 251ms/step - loss: -161.3028 - accuracy: 0.5224 - val_loss: -91.8259 - val_accuracy: 0.5060\n",
            "Epoch 15/35\n",
            "19/19 [==============================] - 5s 251ms/step - loss: -240.8509 - accuracy: 0.5795 - val_loss: -132.4784 - val_accuracy: 0.5032\n",
            "Epoch 16/35\n",
            "19/19 [==============================] - 5s 252ms/step - loss: -334.5509 - accuracy: 0.5977 - val_loss: -182.6255 - val_accuracy: 0.5153\n",
            "Epoch 17/35\n",
            "19/19 [==============================] - 5s 253ms/step - loss: -449.1863 - accuracy: 0.6086 - val_loss: -232.0898 - val_accuracy: 0.5134\n",
            "Epoch 18/35\n",
            "19/19 [==============================] - 5s 251ms/step - loss: -574.2127 - accuracy: 0.6208 - val_loss: -304.0262 - val_accuracy: 0.5005\n",
            "Epoch 19/35\n",
            "19/19 [==============================] - 5s 251ms/step - loss: -725.0628 - accuracy: 0.6268 - val_loss: -375.0680 - val_accuracy: 0.5134\n",
            "Epoch 20/35\n",
            "19/19 [==============================] - 5s 251ms/step - loss: -897.1899 - accuracy: 0.6317 - val_loss: -435.3864 - val_accuracy: 0.5153\n",
            "Epoch 21/35\n",
            "19/19 [==============================] - 5s 251ms/step - loss: -1096.7792 - accuracy: 0.6365 - val_loss: -506.4962 - val_accuracy: 0.5060\n",
            "Epoch 22/35\n",
            "19/19 [==============================] - 5s 250ms/step - loss: -1315.9114 - accuracy: 0.6415 - val_loss: -615.5381 - val_accuracy: 0.5042\n",
            "Epoch 23/35\n",
            "19/19 [==============================] - 5s 250ms/step - loss: -1559.5326 - accuracy: 0.6444 - val_loss: -669.3377 - val_accuracy: 0.5217\n",
            "Epoch 24/35\n",
            "19/19 [==============================] - 5s 251ms/step - loss: -1850.6425 - accuracy: 0.6461 - val_loss: -805.8267 - val_accuracy: 0.4921\n",
            "Epoch 25/35\n",
            "19/19 [==============================] - 5s 252ms/step - loss: -2144.5833 - accuracy: 0.6520 - val_loss: -890.0101 - val_accuracy: 0.5125\n",
            "Epoch 26/35\n",
            "19/19 [==============================] - 5s 251ms/step - loss: -2483.0735 - accuracy: 0.6559 - val_loss: -1091.5464 - val_accuracy: 0.5125\n",
            "Epoch 27/35\n",
            "19/19 [==============================] - 5s 251ms/step - loss: -2831.5698 - accuracy: 0.6599 - val_loss: -1282.1602 - val_accuracy: 0.4986\n",
            "Epoch 28/35\n",
            "19/19 [==============================] - 5s 250ms/step - loss: -3227.9692 - accuracy: 0.6624 - val_loss: -1389.5040 - val_accuracy: 0.4968\n",
            "Epoch 29/35\n",
            "19/19 [==============================] - 5s 250ms/step - loss: -3633.7397 - accuracy: 0.6647 - val_loss: -1525.2753 - val_accuracy: 0.4995\n",
            "Epoch 30/35\n",
            "19/19 [==============================] - 5s 250ms/step - loss: -4066.9812 - accuracy: 0.6619 - val_loss: -1668.3376 - val_accuracy: 0.5032\n",
            "Epoch 31/35\n",
            "19/19 [==============================] - 5s 250ms/step - loss: -4543.1831 - accuracy: 0.6561 - val_loss: -2046.8475 - val_accuracy: 0.5032\n",
            "Epoch 32/35\n",
            "19/19 [==============================] - 5s 250ms/step - loss: -5089.0332 - accuracy: 0.6605 - val_loss: -2220.8872 - val_accuracy: 0.4884\n",
            "Epoch 33/35\n",
            "19/19 [==============================] - 5s 250ms/step - loss: -5626.4443 - accuracy: 0.6623 - val_loss: -2398.5664 - val_accuracy: 0.4995\n",
            "Epoch 34/35\n",
            "19/19 [==============================] - 5s 250ms/step - loss: -6189.2886 - accuracy: 0.6657 - val_loss: -2637.3909 - val_accuracy: 0.4968\n",
            "Epoch 35/35\n",
            "19/19 [==============================] - 5s 250ms/step - loss: -6786.8833 - accuracy: 0.6643 - val_loss: -3080.9006 - val_accuracy: 0.4986\n",
            "CPU times: user 2min 6s, sys: 3.14 s, total: 2min 9s\n",
            "Wall time: 2min 51s\n"
          ]
        },
        {
          "output_type": "execute_result",
          "data": {
            "text/plain": [
              "<keras.callbacks.History at 0x7f33df61ab10>"
            ]
          },
          "metadata": {},
          "execution_count": 23
        }
      ]
    },
    {
      "cell_type": "code",
      "metadata": {
        "id": "Zr1ajP0KeseR"
      },
      "source": [
        "import numpy as np\n",
        "embedding_matrix = np.zeros((1000 + 1, 16))\n"
      ],
      "execution_count": null,
      "outputs": []
    },
    {
      "cell_type": "code",
      "metadata": {
        "colab": {
          "base_uri": "https://localhost:8080/"
        },
        "id": "ZmOFCWHkdC0x",
        "outputId": "dfebe3c3-a45c-423a-f0f6-1d289c8ae6fc"
      },
      "source": [
        "embedding_matrix[0]"
      ],
      "execution_count": null,
      "outputs": [
        {
          "output_type": "execute_result",
          "data": {
            "text/plain": [
              "array([0., 0., 0., 0., 0., 0., 0., 0., 0., 0., 0., 0., 0., 0., 0., 0.])"
            ]
          },
          "metadata": {},
          "execution_count": 5
        }
      ]
    },
    {
      "cell_type": "code",
      "metadata": {
        "colab": {
          "base_uri": "https://localhost:8080/"
        },
        "id": "qlZIBHIydMAV",
        "outputId": "185e911a-a745-4af1-805d-1c44bf7d85a1"
      },
      "source": [
        "embedding_matrix"
      ],
      "execution_count": null,
      "outputs": [
        {
          "output_type": "execute_result",
          "data": {
            "text/plain": [
              "array([[0., 0., 0., ..., 0., 0., 0.],\n",
              "       [0., 0., 0., ..., 0., 0., 0.],\n",
              "       [0., 0., 0., ..., 0., 0., 0.],\n",
              "       ...,\n",
              "       [0., 0., 0., ..., 0., 0., 0.],\n",
              "       [0., 0., 0., ..., 0., 0., 0.],\n",
              "       [0., 0., 0., ..., 0., 0., 0.]])"
            ]
          },
          "metadata": {},
          "execution_count": 6
        }
      ]
    },
    {
      "cell_type": "code",
      "metadata": {
        "id": "_0Xb52O9dfaV"
      },
      "source": [
        ""
      ],
      "execution_count": null,
      "outputs": []
    }
  ]
}